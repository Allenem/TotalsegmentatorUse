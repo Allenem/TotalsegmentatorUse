{
 "cells": [
  {
   "cell_type": "code",
   "execution_count": 3,
   "metadata": {},
   "outputs": [
    {
     "name": "stdout",
     "output_type": "stream",
     "text": [
      "[[ 81.7965449  228.43339893 150.60398445]\n",
      " [ 89.34512045 218.48233683  83.80419297]\n",
      " [ 87.34319613 216.73747829 117.28815204]\n",
      " [ 77.6152908  242.69002069 181.65315701]\n",
      " [ 82.39648499 248.61073858  54.40004907]\n",
      " [ 76.49260917 253.29242395 211.02858779]\n",
      " [ 66.14285714 226.71428571 230.57142857]] [6 5 3 0 4 2 1]\n"
     ]
    }
   ],
   "source": [
    "import numpy as np\n",
    "centers_array  = np.array([[ 81.7965449 , 228.43339893, 150.60398445],\n",
    " [ 89.34512045, 218.48233683,  83.80419297],\n",
    " [ 87.34319613, 216.73747829, 117.28815204],\n",
    " [ 77.6152908 , 242.69002069, 181.65315701],\n",
    " [ 82.39648499, 248.61073858,  54.40004907],\n",
    " [ 76.49260917, 253.29242395, 211.02858779],\n",
    " [ 66.14285714, 226.71428571, 230.57142857]])\n",
    "z_order = np.argsort(centers_array[:, 0]) # x\n",
    "print(centers_array, z_order)"
   ]
  },
  {
   "cell_type": "code",
   "execution_count": 4,
   "metadata": {},
   "outputs": [
    {
     "name": "stdout",
     "output_type": "stream",
     "text": [
      "[[ 81.7965449  228.43339893 150.60398445]\n",
      " [ 89.34512045 218.48233683  83.80419297]\n",
      " [ 87.34319613 216.73747829 117.28815204]\n",
      " [ 77.6152908  242.69002069 181.65315701]\n",
      " [ 82.39648499 248.61073858  54.40004907]\n",
      " [ 76.49260917 253.29242395 211.02858779]\n",
      " [ 66.14285714 226.71428571 230.57142857]] [2 1 6 0 3 4 5]\n"
     ]
    }
   ],
   "source": [
    "z_order = np.argsort(centers_array[:, 1]) # y\n",
    "print(centers_array, z_order)"
   ]
  },
  {
   "cell_type": "code",
   "execution_count": 5,
   "metadata": {},
   "outputs": [
    {
     "name": "stdout",
     "output_type": "stream",
     "text": [
      "[[ 81.7965449  228.43339893 150.60398445]\n",
      " [ 89.34512045 218.48233683  83.80419297]\n",
      " [ 87.34319613 216.73747829 117.28815204]\n",
      " [ 77.6152908  242.69002069 181.65315701]\n",
      " [ 82.39648499 248.61073858  54.40004907]\n",
      " [ 76.49260917 253.29242395 211.02858779]\n",
      " [ 66.14285714 226.71428571 230.57142857]] [4 1 2 0 3 5 6]\n"
     ]
    }
   ],
   "source": [
    "z_order = np.argsort(centers_array[:, 2]) # z\n",
    "print(centers_array, z_order)"
   ]
  }
 ],
 "metadata": {
  "kernelspec": {
   "display_name": "mamba",
   "language": "python",
   "name": "python3"
  },
  "language_info": {
   "codemirror_mode": {
    "name": "ipython",
    "version": 3
   },
   "file_extension": ".py",
   "mimetype": "text/x-python",
   "name": "python",
   "nbconvert_exporter": "python",
   "pygments_lexer": "ipython3",
   "version": "3.10.14"
  }
 },
 "nbformat": 4,
 "nbformat_minor": 2
}
