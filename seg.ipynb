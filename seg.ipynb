{
 "cells": [
  {
   "cell_type": "code",
   "execution_count": 2,
   "metadata": {},
   "outputs": [],
   "source": [
    "import nibabel as nib\n",
    "from totalsegmentator.python_api import totalsegmentator\n",
    "import numpy as np\n",
    "from scipy.ndimage import label\n",
    "from sklearn.cluster import KMeans\n",
    "from scipy.ndimage import center_of_mass\n",
    "import os"
   ]
  },
  {
   "cell_type": "code",
   "execution_count": 4,
   "metadata": {},
   "outputs": [
    {
     "name": "stdout",
     "output_type": "stream",
     "text": [
      "\n",
      "If you use this tool please cite: https://pubs.rsna.org/doi/10.1148/ryai.230024\n",
      "\n",
      "Generating rough segmentation for cropping...\n",
      "Resampling...\n",
      "  Resampled in 0.58s\n",
      "Predicting...\n"
     ]
    },
    {
     "name": "stderr",
     "output_type": "stream",
     "text": [
      "100%|██████████| 1/1 [00:00<00:00, 164.42it/s]\n"
     ]
    },
    {
     "name": "stdout",
     "output_type": "stream",
     "text": [
      "  Predicted in 6.99s\n",
      "Resampling...\n",
      "  cropping from (196, 512, 256) to (196, 236, 235)\n",
      "Resampling...\n",
      "  Resampled in 0.23s\n",
      "Predicting part 1 of 1 ...\n"
     ]
    },
    {
     "name": "stderr",
     "output_type": "stream",
     "text": [
      "100%|██████████| 2/2 [00:00<00:00, 166.42it/s]\n"
     ]
    },
    {
     "name": "stdout",
     "output_type": "stream",
     "text": [
      "  Predicted in 7.45s\n",
      "Resampling...\n",
      "Saving segmentations...\n"
     ]
    },
    {
     "data": {
      "application/vnd.jupyter.widget-view+json": {
       "model_id": "4c37585b97ac4997aab18901c8ee209f",
       "version_major": 2,
       "version_minor": 0
      },
      "text/plain": [
       "  0%|          | 0/1 [00:00<?, ?it/s]"
      ]
     },
     "metadata": {},
     "output_type": "display_data"
    },
    {
     "name": "stdout",
     "output_type": "stream",
     "text": [
      "  Saved in 3.53s\n",
      "分割结果已保存至: ./label/MRT1_0028_0000\n",
      "聚类后的图像已保存至: ./label/MRT1_0028_0000/vertebrae7.nii.gz\n",
      "\n",
      "If you use this tool please cite: https://pubs.rsna.org/doi/10.1148/ryai.230024\n",
      "\n",
      "Generating rough segmentation for cropping...\n",
      "Resampling...\n",
      "  Resampled in 0.57s\n",
      "Predicting...\n"
     ]
    },
    {
     "name": "stderr",
     "output_type": "stream",
     "text": [
      "100%|██████████| 1/1 [00:00<00:00, 142.66it/s]\n"
     ]
    },
    {
     "name": "stdout",
     "output_type": "stream",
     "text": [
      "  Predicted in 6.67s\n",
      "Resampling...\n",
      "  cropping from (196, 512, 256) to (196, 236, 235)\n",
      "Resampling...\n",
      "  Resampled in 0.23s\n",
      "Predicting part 1 of 1 ...\n"
     ]
    },
    {
     "name": "stderr",
     "output_type": "stream",
     "text": [
      "100%|██████████| 2/2 [00:00<00:00, 166.54it/s]\n"
     ]
    },
    {
     "name": "stdout",
     "output_type": "stream",
     "text": [
      "  Predicted in 7.46s\n",
      "Resampling...\n",
      "Saving segmentations...\n"
     ]
    },
    {
     "data": {
      "application/vnd.jupyter.widget-view+json": {
       "model_id": "5da8a3e4f7e64f3da1bc0ace7f6a0ec0",
       "version_major": 2,
       "version_minor": 0
      },
      "text/plain": [
       "  0%|          | 0/1 [00:00<?, ?it/s]"
      ]
     },
     "metadata": {},
     "output_type": "display_data"
    },
    {
     "name": "stdout",
     "output_type": "stream",
     "text": [
      "  Saved in 3.44s\n",
      "分割结果已保存至: ./label/MRT1_0028_0001\n",
      "聚类后的图像已保存至: ./label/MRT1_0028_0001/vertebrae7.nii.gz\n"
     ]
    }
   ],
   "source": [
    "img_folder = './img/'\n",
    "label_folder = './label/'\n",
    "\n",
    "for img_name in os.listdir(img_folder):\n",
    "    if img_name.endswith('.nii'):\n",
    "\n",
    "        # 0. 调用 totalsegmentator 进行分割\n",
    "        input_file = os.path.join(img_folder, img_name)\n",
    "        output_folder = os.path.join(label_folder, img_name.split('.')[0])\n",
    "        if not os.path.exists(output_folder):\n",
    "            os.makedirs(output_folder)\n",
    "        input_img = nib.load(input_file)\n",
    "        output_img = totalsegmentator(input=input_img, output=output_folder, task=\"total_mr\", roi_subset=['vertebrae'])\n",
    "        print(f\"分割结果已保存至: {output_folder}\")\n",
    "        \n",
    "        # 1. 加载 NIfTI 图像\n",
    "        input_path = output_folder + '/vertebrae.nii.gz'  # 输入 NIfTI 文件路径\n",
    "        img = nib.load(input_path)\n",
    "        data = img.get_fdata()  # 获取图像数据为 NumPy 数组\n",
    "        binary_data = (data > 0).astype(np.int32) # 二值化图像数据\n",
    "\n",
    "        # 2. 对值为1的区域进行连通区域标记\n",
    "        labeled_array, num_features = label(binary_data)\n",
    "        output_path = f'{output_folder}/vertebrae{num_features}.nii.gz'  # 输出 NIfTI 文件路径\n",
    "\n",
    "        # 3. 获取所有连通区域的重心\n",
    "        centers = center_of_mass(binary_data, labeled_array, range(1, num_features + 1))\n",
    "        centers_array = np.array(centers)\n",
    "\n",
    "        # 4. 使用 KMeans 聚类算法对重心进行聚类 聚类为 num_features 类\n",
    "        kmeans = KMeans(n_clusters=num_features, random_state=0)\n",
    "        kmeans.fit(centers_array)\n",
    "        labels = kmeans.labels_\n",
    "\n",
    "        # 5. 根据中心的z轴位置排序\n",
    "        sorted_indices = np.argsort(-centers_array[:, 2])\n",
    "        sorted_labels = np.zeros_like(labels)\n",
    "        for i, index in enumerate(sorted_indices):\n",
    "            sorted_labels[labels == index] = i\n",
    "\n",
    "        # 6. 创建新的分割图像，将每个旧聚类的值替换为新的类标签\n",
    "        clustered_data = np.zeros_like(binary_data)\n",
    "        for oldlabel, newlabel in zip(labels, sorted_labels):\n",
    "            clustered_data[labeled_array == (oldlabel + 1)] = newlabel + 1\n",
    "\n",
    "        # 7. 保存新的分割图像\n",
    "        new_img = nib.Nifti1Image(clustered_data, img.affine, img.header)\n",
    "        nib.save(new_img, output_path)\n",
    "        print(f\"聚类后的图像已保存至: {output_path}\")"
   ]
  }
 ],
 "metadata": {
  "kernelspec": {
   "display_name": "mamba",
   "language": "python",
   "name": "python3"
  },
  "language_info": {
   "codemirror_mode": {
    "name": "ipython",
    "version": 3
   },
   "file_extension": ".py",
   "mimetype": "text/x-python",
   "name": "python",
   "nbconvert_exporter": "python",
   "pygments_lexer": "ipython3",
   "version": "3.10.14"
  }
 },
 "nbformat": 4,
 "nbformat_minor": 2
}
